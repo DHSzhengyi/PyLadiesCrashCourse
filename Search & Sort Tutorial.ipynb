{
 "cells": [
  {
   "cell_type": "markdown",
   "metadata": {},
   "source": [
    "# Search & Sort Tutorial"
   ]
  },
  {
   "cell_type": "markdown",
   "metadata": {},
   "source": [
    "Horray!!Welcome to the Seach & Sort Tutorial! Let's begin!! The question is...\n",
    "\n",
    "Given an unsorted array, find the index of the first mode.\n",
    "\n",
    "Note:Mode is the number inside a list with highest appearing frequency. \n",
    "    In order to find the index of the first mode, you have to sort the array first."
   ]
  },
  {
   "cell_type": "code",
   "execution_count": 1,
   "metadata": {},
   "outputs": [],
   "source": [
    "'''\n",
    "Part I\n",
    "Sort the array using insertion sort/bubble sort.\n",
    "'''\n",
    "\n",
    "array = [8,2,5,7,4,9,3,6,2,9,7,6,6,6,2,9,3,7,4,5]"
   ]
  },
  {
   "cell_type": "markdown",
   "metadata": {},
   "source": [
    "Once the array is sorted, you will get [2, 2, 2, 3, 3, 4, 4, 5, 5, 6, 6, 6, 6, 7, 7, 7, 8, 9, 9, 9] as output.\n",
    "It is very clear that the mode is 6 because it appeares 4 times! Now we need to let the program to find it.\n",
    "\n",
    "We can do so using 2 methods.\n",
    "1. Find the mode by using simple loop and list's count method.\n",
    "  array.count(item) will give you the occurance of that object in the array\n",
    "  \n",
    "2. [More Efficient]\n",
    "  1) Iterate though input array arr[], for every element arr[i], increment arr[arr[i]%k] by k (arr[] becomes {2, 11, 11, 29, 11, 12, 1, 15 })\n",
    "\n",
    "  2) Find the maximum value in the modified array (maximum value is 29). Index of the maximum value is the maximum repeating element (index \n",
    "  of 29 is 3).\n",
    "  \n",
    "  How does it work? \n",
    "  Since we use arr[i]%k as index and add value k at the index arr[i]%k, the index which is equal to maximum repeating element will have the\n",
    "  maximum value in the end. Note that k is added maximum number of times at the index equal to maximum repeating element and all array \n",
    "  elements are smaller than k."
   ]
  },
  {
   "cell_type": "code",
   "execution_count": 3,
   "metadata": {},
   "outputs": [
    {
     "data": {
      "text/plain": [
       "'\\nPart II\\nFind the mode\\n'"
      ]
     },
     "execution_count": 3,
     "metadata": {},
     "output_type": "execute_result"
    }
   ],
   "source": [
    "'''\n",
    "Part II\n",
    "Find the mode\n",
    "'''\n"
   ]
  },
  {
   "cell_type": "markdown",
   "metadata": {},
   "source": [
    "As you can probably see in Part II, the program spotted the number with highest occurances! It is 6! Computers are Smart, ain't they?\n",
    "And...\n",
    "We are finally at the Part III and one of the easiest part!! Find the index of the first 6 in the sorted array!!"
   ]
  },
  {
   "cell_type": "code",
   "execution_count": 4,
   "metadata": {},
   "outputs": [
    {
     "data": {
      "text/plain": [
       "'\\nPart III\\nUse Linear Search to find the index of first 6 in a sorted array\\n'"
      ]
     },
     "execution_count": 4,
     "metadata": {},
     "output_type": "execute_result"
    }
   ],
   "source": [
    "'''\n",
    "Part III\n",
    "Use Linear Search to find the index of first 6 in a sorted array\n",
    "'''\n",
    "\n",
    "#linear search\n"
   ]
  },
  {
   "cell_type": "markdown",
   "metadata": {},
   "source": [
    "The index of the first 6 should be 9! \n",
    "\n",
    "Congratulations on finishing this Search & Sort tutorial. Hope y'all had fun.<3"
   ]
  },
  {
   "cell_type": "code",
   "execution_count": null,
   "metadata": {},
   "outputs": [],
   "source": []
  }
 ],
 "metadata": {
  "kernelspec": {
   "display_name": "Python 3",
   "language": "python",
   "name": "python3"
  },
  "language_info": {
   "codemirror_mode": {
    "name": "ipython",
    "version": 3
   },
   "file_extension": ".py",
   "mimetype": "text/x-python",
   "name": "python",
   "nbconvert_exporter": "python",
   "pygments_lexer": "ipython3",
   "version": "3.6.4"
  }
 },
 "nbformat": 4,
 "nbformat_minor": 2
}
