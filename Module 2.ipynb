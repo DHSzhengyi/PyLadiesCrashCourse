{
 "cells": [
  {
   "cell_type": "markdown",
   "metadata": {},
   "source": [
    "# Python Basics Module 2: Application"
   ]
  },
  {
   "cell_type": "markdown",
   "metadata": {},
   "source": [
    "## Exercise 1: Basic file operation\n",
    "Can you fill in the blank lines to help me read from the file 'Exercise1.txt'\n",
    "\n",
    "Print out the content of the file!"
   ]
  },
  {
   "cell_type": "code",
   "execution_count": null,
   "metadata": {},
   "outputs": [],
   "source": [
    "infile = open(<write your code here>,<write your code here>)\n",
    "\n",
    "##write your code here\n",
    "\n",
    "for line in lines: #print out all lines in the file\n",
    "    print(line)\n",
    "    \n",
    "infile.close() #break the link between file and programme"
   ]
  },
  {
   "cell_type": "markdown",
   "metadata": {},
   "source": [
    "## Special Mission\n",
    "There is a secret text file named 'TopSecret.txt' in the home directory!! (O _ O)\n",
    "\n",
    "Without opening the file, can you can to tell what is inside the file?? (^ _ ^)\n",
    "\n",
    "(Hint: Using what we covered in the last 5 minutes!)\n"
   ]
  },
  {
   "cell_type": "code",
   "execution_count": null,
   "metadata": {},
   "outputs": [],
   "source": []
  },
  {
   "cell_type": "markdown",
   "metadata": {},
   "source": [
    "Cheat Sheet: This what we have covered.\n",
    "\n",
    "infile = open(< input file name >, 'r'/'w'/'a') #r for read, w for write, a for append\n",
    "\n",
    "#most common operations\n",
    "\n",
    "content = infile.readlines() #read from file\n",
    "\n",
    "infile.write(< content into the file >) #write/append to file"
   ]
  },
  {
   "cell_type": "markdown",
   "metadata": {},
   "source": [
    "## Decoding the message\n",
    "It appears that the message is encoded in some way!!\n",
    "\n",
    "Can you try to decode it?"
   ]
  },
  {
   "cell_type": "code",
   "execution_count": null,
   "metadata": {},
   "outputs": [],
   "source": [
    "#read input from file\n",
    "#write your code here\n",
    "\n",
    "#separate the numbers (which data structure should we use to store the value?)\n",
    "#write your code here\n",
    "\n",
    "#check for prime numbers\n",
    "#write your code here\n",
    "\n",
    "#put the letter into the corresponding position\n",
    "#write your code here"
   ]
  },
  {
   "cell_type": "markdown",
   "metadata": {},
   "source": [
    "## Exercise 2: Basic Functions\n",
    "Based on what we have covered, can you fill in the blanks to help me deduce whether the input number is a prime or composite number?"
   ]
  },
  {
   "cell_type": "code",
   "execution_count": null,
   "metadata": {},
   "outputs": [],
   "source": [
    "def Is_Prime(Number): #take in one input parameter\n",
    "    IsPrime = True\n",
    "    for i in range(<write your code here>):\n",
    "        <write your code here>\n",
    "    return <write your code here> #return value"
   ]
  },
  {
   "cell_type": "markdown",
   "metadata": {},
   "source": [
    "How do we test the code?\n",
    "\n",
    "Write a piece of main programme here to call the above function for use.\n",
    "\n",
    "Read in data from 'Exercise2.txt' for the testing! (Remember what we learnt in Exercise 1?)"
   ]
  },
  {
   "cell_type": "code",
   "execution_count": null,
   "metadata": {},
   "outputs": [],
   "source": [
    "#read from file\n",
    "#write your code here\n",
    "\n",
    "#caller for function\n",
    "#write your code here"
   ]
  },
  {
   "cell_type": "markdown",
   "metadata": {},
   "source": [
    "## Special Mission - Continue\n",
    "Your code seems fine but imagine what will the code be like if it is more than 1000 lines long!! (O _ o)\n",
    "\n",
    "The structure of the code can be clearer using functions!\n",
    "\n",
    "Can you try to rewrite your programme??\n"
   ]
  },
  {
   "cell_type": "code",
   "execution_count": null,
   "metadata": {},
   "outputs": [],
   "source": [
    "#you can directly make use of the defined function from Exercise 2"
   ]
  },
  {
   "cell_type": "markdown",
   "metadata": {},
   "source": [
    "## Great job my friend!! (^w^)/ (^w^)/\n",
    "### Now you are an expert in file operation and functions!!\n",
    "### Dive deeper into Python and look out for more in Module 3!!\n"
   ]
  }
 ],
 "metadata": {
  "kernelspec": {
   "display_name": "Python 3",
   "language": "python",
   "name": "python3"
  },
  "language_info": {
   "codemirror_mode": {
    "name": "ipython",
    "version": 3
   },
   "file_extension": ".py",
   "mimetype": "text/x-python",
   "name": "python",
   "nbconvert_exporter": "python",
   "pygments_lexer": "ipython3",
   "version": "3.6.4"
  }
 },
 "nbformat": 4,
 "nbformat_minor": 2
}
