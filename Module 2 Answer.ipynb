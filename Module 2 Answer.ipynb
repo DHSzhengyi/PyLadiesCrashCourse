{
 "cells": [
  {
   "cell_type": "markdown",
   "metadata": {},
   "source": [
    "# Python Basics Module 2: Application"
   ]
  },
  {
   "cell_type": "markdown",
   "metadata": {},
   "source": [
    "## Exercise 1: Basic file operation\n",
    "Can you fill in the blank lines to help me read from the file 'Exercise1.txt'\n",
    "\n",
    "Print out the content of the file!"
   ]
  },
  {
   "cell_type": "code",
   "execution_count": 1,
   "metadata": {},
   "outputs": [
    {
     "name": "stdout",
     "output_type": "stream",
     "text": [
      "Yooo You waked me up. (*_*)\n",
      "\n",
      "Now you made it to successful file operation!! (^_^)\n"
     ]
    }
   ],
   "source": [
    "infile = open('Exercise1.txt','r')\n",
    "\n",
    "lines = infile.readlines()\n",
    "\n",
    "for line in lines: #print out all lines in the file\n",
    "    print(line)\n",
    "    \n",
    "infile.close() #break the link between file and programme"
   ]
  },
  {
   "cell_type": "markdown",
   "metadata": {},
   "source": [
    "## Special Mission\n",
    "There is a secret text file named 'TopSecret.txt' in the home directory!! (O _ O)\n",
    "\n",
    "Without opening the file, can you can to tell what is inside the file?? (^ _ ^)\n",
    "\n",
    "(Hint: Using what we covered in the last 5 minutes!)\n"
   ]
  },
  {
   "cell_type": "code",
   "execution_count": 2,
   "metadata": {},
   "outputs": [
    {
     "name": "stdout",
     "output_type": "stream",
     "text": [
      "3,15\n",
      "25,7\n",
      "12,11\n",
      "55,1\n",
      "98,2\n",
      "48,5\n",
      "20,4\n",
      "72,3\n",
      "72,9\n",
      "68,8\n",
      "45,12\n",
      "88,14\n",
      "72,17\n",
      "45,6\n",
      "21,10\n",
      "12,13\n",
      "62,16\n"
     ]
    }
   ],
   "source": [
    "infile = open('TopSecret.txt','r')\n",
    "\n",
    "#file operation\n",
    "lines = infile.readlines()\n",
    "for line in lines:\n",
    "    line = line.rstrip('\\n')\n",
    "    print(line)"
   ]
  },
  {
   "cell_type": "markdown",
   "metadata": {},
   "source": [
    "Cheat Sheet: This what we have covered.\n",
    "\n",
    "infile = open(< input file name >, 'r'/'w'/'a') #r for read, w for write, a for append\n",
    "\n",
    "#most common operations\n",
    "\n",
    "content = infile.readlines() #read from file\n",
    "\n",
    "infile.write(< content into the file >) #write/append to file"
   ]
  },
  {
   "cell_type": "markdown",
   "metadata": {},
   "source": [
    "## Decoding the message\n",
    "It appears that the message is encoded in some way!!\n",
    "\n",
    "Can you try to decode it?"
   ]
  },
  {
   "cell_type": "code",
   "execution_count": 3,
   "metadata": {},
   "outputs": [
    {
     "name": "stdout",
     "output_type": "stream",
     "text": [
      "pythonisthenewart\n"
     ]
    }
   ],
   "source": [
    "infile = open('TopSecret.txt','r')\n",
    "\n",
    "#file operation\n",
    "lines = infile.readlines()\n",
    "for line in lines:\n",
    "    line = line.rstrip('\\n')\n",
    "\n",
    "#separate the number and positions\n",
    "Numbers = []\n",
    "Positions = []\n",
    "for line in lines: #print out all lines in the file\n",
    "    Number,Position = line.split(',')\n",
    "    Numbers.append(int(Number))\n",
    "    Positions.append(int(Position))\n",
    "\n",
    "#check for each number list\n",
    "Message = ['' for i in range(len(Numbers)+1)]\n",
    "for i in range(len(Numbers)):\n",
    "    Total = 0\n",
    "    for j in range(2,Numbers[i]): #for each number, check all integers before it for prime number\n",
    "        Is_Prime = True\n",
    "        for k in range(2,j): #check for prime number\n",
    "            if j % k == 0:\n",
    "                Is_Prime = False\n",
    "                break\n",
    "        if Is_Prime == True: #calculate number of prime number\n",
    "            Total += 1\n",
    "            \n",
    "    Message[Positions[i]] = chr(Total+96) #change to letter by ASCII\n",
    "\n",
    "String = '' #make the list into a string\n",
    "for letter in Message:\n",
    "    String += letter\n",
    "\n",
    "print(String)\n",
    "    \n",
    "infile.close() #break the link between file and programme"
   ]
  },
  {
   "cell_type": "markdown",
   "metadata": {},
   "source": [
    "## Exercise 2: Basic Functions\n",
    "Based on what we have covered, can you fill in the blanks to help me deduce whether the input number is a prime or composite number?"
   ]
  },
  {
   "cell_type": "code",
   "execution_count": 4,
   "metadata": {},
   "outputs": [],
   "source": [
    "def Is_Prime(Number): #take in one input parameter\n",
    "    IsPrime = True\n",
    "    for i in range(2,Number):\n",
    "        if Number % i == 0:\n",
    "            IsPrime = False\n",
    "    return IsPrime #return value"
   ]
  },
  {
   "cell_type": "markdown",
   "metadata": {},
   "source": [
    "How do we test the code?\n",
    "\n",
    "Write a piece of main programme here to call the above function for use.\n",
    "\n",
    "Read in data from 'Exercise2.txt' for the testing! (Remember what we learnt in Exercise 1?)"
   ]
  },
  {
   "cell_type": "code",
   "execution_count": 5,
   "metadata": {},
   "outputs": [
    {
     "name": "stdout",
     "output_type": "stream",
     "text": [
      "13 Prime Number\n",
      "21 Composite Number\n",
      "11 Prime Number\n",
      "14 Composite Number\n",
      "15 Composite Number\n",
      "22 Composite Number\n",
      "37 Prime Number\n",
      "98 Composite Number\n"
     ]
    }
   ],
   "source": [
    "infile = open('Exercise2.txt','r')\n",
    "\n",
    "lines = infile.readlines()\n",
    "\n",
    "Numbers = []\n",
    "for line in lines: #print out all lines in the file\n",
    "    line = line.rstrip('\\n')\n",
    "    if Is_Prime(int(line)):\n",
    "        print(line,'Prime Number')\n",
    "    else:\n",
    "        print(line,'Composite Number')\n",
    "    \n",
    "infile.close() #break the link between file and programme"
   ]
  },
  {
   "cell_type": "markdown",
   "metadata": {},
   "source": [
    "## Special Mission - Continue\n",
    "Your code seems fine but imagine what will the code be like if it is more than 1000 lines long!! (O _ o)\n",
    "\n",
    "The structure of the code can be clearer using functions!\n",
    "\n",
    "Can you try to rewrite your programme??\n"
   ]
  },
  {
   "cell_type": "code",
   "execution_count": 6,
   "metadata": {},
   "outputs": [
    {
     "name": "stdout",
     "output_type": "stream",
     "text": [
      "pythonisthenewart\n"
     ]
    }
   ],
   "source": [
    "#you can directly make use of the defined function from Exercise 2\n",
    "infile = open('TopSecret.txt','r')\n",
    "\n",
    "#file operation\n",
    "lines = infile.readlines()\n",
    "for line in lines:\n",
    "    line = line.rstrip('\\n')\n",
    "\n",
    "#separate the number and positions\n",
    "Numbers = []\n",
    "Positions = []\n",
    "for line in lines: #print out all lines in the file\n",
    "    Number,Position = line.split(',')\n",
    "    Numbers.append(int(Number))\n",
    "    Positions.append(int(Position))\n",
    "\n",
    "#check for each number list\n",
    "Message = ['' for i in range(len(Numbers)+1)]\n",
    "for i in range(len(Numbers)):\n",
    "    Total = 0\n",
    "    for j in range(2,Numbers[i]): #for each number, check all integers before it for prime number\n",
    "        if Is_Prime(j):\n",
    "            Total += 1\n",
    "            \n",
    "    Message[Positions[i]] = chr(Total+96) #change to letter by ASCII\n",
    "\n",
    "String = '' #make the list into a string\n",
    "for letter in Message:\n",
    "    String += letter\n",
    "\n",
    "print(String)\n",
    "    \n",
    "infile.close() #break the link between file and programme"
   ]
  },
  {
   "cell_type": "markdown",
   "metadata": {},
   "source": [
    "## Great job my friend!! (^w^)/ (^w^)/\n",
    "### Now you are an expert in file operation and functions!!\n",
    "### Dive deeper into Python and look out for more in Module 3!!\n"
   ]
  }
 ],
 "metadata": {
  "kernelspec": {
   "display_name": "Python 3",
   "language": "python",
   "name": "python3"
  },
  "language_info": {
   "codemirror_mode": {
    "name": "ipython",
    "version": 3
   },
   "file_extension": ".py",
   "mimetype": "text/x-python",
   "name": "python",
   "nbconvert_exporter": "python",
   "pygments_lexer": "ipython3",
   "version": "3.6.4"
  }
 },
 "nbformat": 4,
 "nbformat_minor": 2
}
