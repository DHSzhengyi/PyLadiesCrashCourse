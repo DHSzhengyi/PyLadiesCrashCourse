{
 "cells": [
  {
   "cell_type": "markdown",
   "metadata": {},
   "source": [
    "# Python Basics Module 1: Basic Operations"
   ]
  },
  {
   "cell_type": "markdown",
   "metadata": {},
   "source": [
    "## Exercise 1: Input/Output, String Operations"
   ]
  },
  {
   "cell_type": "markdown",
   "metadata": {},
   "source": [
    "### First, get the input of a person's name and age!\n",
    "### Then, print the name and age in this format \"My name is ... and my age is ...\"\n",
    "#####  HINT: STRING Concatenation!\n"
   ]
  },
  {
   "cell_type": "code",
   "execution_count": 3,
   "metadata": {},
   "outputs": [
    {
     "name": "stdout",
     "output_type": "stream",
     "text": [
      "What is your name?A\n",
      "What is your age20\n",
      "My name is Aand my age is 20\n"
     ]
    }
   ],
   "source": [
    "MyName= input(\"What is your name?\")\n",
    "MyAge= int(input(\"What is your age\"))\n",
    "\n",
    "print (\"My name is \" + (MyName) + \" and my age is \" + str(MyAge))"
   ]
  },
  {
   "cell_type": "markdown",
   "metadata": {},
   "source": [
    "## Exercise 2: Conditional Statements"
   ]
  },
  {
   "cell_type": "markdown",
   "metadata": {},
   "source": [
    "### Get Python to ask a question and get an answer!"
   ]
  },
  {
   "cell_type": "code",
   "execution_count": 6,
   "metadata": {},
   "outputs": [
    {
     "name": "stdout",
     "output_type": "stream",
     "text": [
      "Do you have a sibling? Yes/NoNo\n",
      "Only child\n"
     ]
    }
   ],
   "source": [
    "Sibling= input(\"Do you have a sibling? Yes/No\")\n",
    "\n",
    "if Sibling== \"No\":\n",
    "    print (\"Only child\")\n",
    "elif Sibling== \"Yes\":\n",
    "    print (\"How many?\")\n",
    "else:\n",
    "    print (\"Answer can only be Yes/ No\")"
   ]
  },
  {
   "cell_type": "markdown",
   "metadata": {},
   "source": [
    "## Exercise 3: Dictionaries"
   ]
  },
  {
   "cell_type": "markdown",
   "metadata": {},
   "source": [
    "### Create a Family Dictionary with the Key as the name and Age as the value\n",
    "#### HINT: {Key: Value}"
   ]
  },
  {
   "cell_type": "code",
   "execution_count": 9,
   "metadata": {},
   "outputs": [
    {
     "name": "stdout",
     "output_type": "stream",
     "text": [
      "{'A': 5, 'B': 6, 'C': 7}\n"
     ]
    }
   ],
   "source": [
    "Family= {'A': 5,  'B': 6, 'C':7}\n",
    "print (Family)\n"
   ]
  },
  {
   "cell_type": "markdown",
   "metadata": {},
   "source": [
    "## Exercise 4: Loops"
   ]
  },
  {
   "cell_type": "markdown",
   "metadata": {},
   "source": [
    "### Now, get Python to calculate the total age of the members in your family list!\n",
    "#### HINT: Range will be the length of the Family dictionary "
   ]
  },
  {
   "cell_type": "code",
   "execution_count": 11,
   "metadata": {},
   "outputs": [
    {
     "name": "stdout",
     "output_type": "stream",
     "text": [
      "18\n"
     ]
    }
   ],
   "source": [
    "TotalAge= 0\n",
    "for age in Family.values():\n",
    "    TotalAge= TotalAge+ age\n",
    "\n",
    "print (TotalAge)"
   ]
  },
  {
   "cell_type": "markdown",
   "metadata": {},
   "source": [
    "### Why would a For Loop be preferred in this instance, rather than a While Loop?"
   ]
  },
  {
   "cell_type": "markdown",
   "metadata": {},
   "source": [
    "#### >>There is a finite number of times we can loop through-number of family members. Usually, when the number of iterations is known before entering the loop, a For Loop is preferred."
   ]
  },
  {
   "cell_type": "markdown",
   "metadata": {},
   "source": [
    "### Congratulations! :D You have officially stepped into the World of Python!\n",
    "### You may now get onto Modules 2 and 3 to discover the real world applications of Python."
   ]
  }
 ],
 "metadata": {
  "kernelspec": {
   "display_name": "Python 3",
   "language": "python",
   "name": "python3"
  },
  "language_info": {
   "codemirror_mode": {
    "name": "ipython",
    "version": 3
   },
   "file_extension": ".py",
   "mimetype": "text/x-python",
   "name": "python",
   "nbconvert_exporter": "python",
   "pygments_lexer": "ipython3",
   "version": "3.6.4"
  }
 },
 "nbformat": 4,
 "nbformat_minor": 2
}
