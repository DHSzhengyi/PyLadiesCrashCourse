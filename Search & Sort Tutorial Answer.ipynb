{
 "cells": [
  {
   "cell_type": "markdown",
   "metadata": {},
   "source": [
    "# Search & Sort Tutorial Answer"
   ]
  },
  {
   "cell_type": "markdown",
   "metadata": {},
   "source": [
    "Horray!!Welcome to the Seach & Sort Tutorial! Let's begin!! The question is...\n",
    "\n",
    "Given an unsorted array, find the index of the first mode.\n",
    "\n",
    "Note:Mode is the number inside a list with highest appearing frequency. \n",
    "    In order to find the index of the first mode, you have to sort the array first."
   ]
  },
  {
   "cell_type": "code",
   "execution_count": 1,
   "metadata": {},
   "outputs": [
    {
     "name": "stdout",
     "output_type": "stream",
     "text": [
      "[2, 2, 2, 3, 3, 4, 4, 5, 5, 6, 6, 6, 6, 7, 7, 7, 8, 9, 9, 9]\n",
      "[2, 2, 2, 3, 3, 4, 4, 5, 5, 6, 6, 6, 6, 7, 7, 7, 8, 9, 9, 9]\n"
     ]
    }
   ],
   "source": [
    "'''\n",
    "Part I\n",
    "Sort the array using insertion sort/bubble sort.\n",
    "'''\n",
    "\n",
    "#insertion sort\n",
    "def insertion_sort(arr):\n",
    "    for j in range(1,len(arr)): #assume first item sorted\n",
    "        num = arr[j]\n",
    "        i = j - 1\n",
    "        while (i >= 0 and arr[i] > num):\n",
    "            arr[i+1] = arr[i]\n",
    "            i = i - 1\n",
    "        arr[i+1] = num\n",
    "    return arr\n",
    "\n",
    "#bubble sort\n",
    "def bubble_sort(arr):\n",
    "    # Traverse through all array elements\n",
    "    for i in range(len(arr)):\n",
    "\n",
    "        # Last i elements are already in place\n",
    "        for j in range(len(arr)-i-1):\n",
    "\n",
    "            # traverse the array from 0 to n-i-1\n",
    "            if arr[j] > arr[j+1] :\n",
    "                arr[j], arr[j+1] = arr[j+1], arr[j]\n",
    "    return arr\n",
    "\n",
    "#main\n",
    "array = [8,2,5,7,4,9,3,6,2,9,7,6,6,6,2,9,3,7,4,5]\n",
    "print(bubble_sort(array))\n",
    "print(insertion_sort(array))"
   ]
  },
  {
   "cell_type": "markdown",
   "metadata": {},
   "source": [
    "Once the array is sorted, you will get [2, 2, 2, 3, 3, 4, 4, 5, 5, 6, 6, 6, 6, 7, 7, 7, 8, 9, 9, 9] as output.\n",
    "It is very clear that the mode is 6 because it appeares 4 times! Now we need to let the program to find it.\n",
    "\n",
    "We can do so using 2 methods.\n",
    "1. Find the mode by using simple loop and list's count method.\n",
    "  array.count(item) will give you the occurance of that object in the array\n",
    "  \n",
    "2. [More Efficient]\n",
    "  1) Iterate though input array arr[], for every element arr[i], increment arr[arr[i]%k] by k (arr[] becomes {2, 11, 11, 29, 11, 12, 1, 15 })\n",
    "\n",
    "  2) Find the maximum value in the modified array (maximum value is 29). Index of the maximum value is the maximum repeating element (index \n",
    "  of 29 is 3).\n",
    "  \n",
    "  How does it work? \n",
    "  Since we use arr[i]%k as index and add value k at the index arr[i]%k, the index which is equal to maximum repeating element will have the\n",
    "  maximum value in the end. Note that k is added maximum number of times at the index equal to maximum repeating element and all array \n",
    "  elements are smaller than k."
   ]
  },
  {
   "cell_type": "code",
   "execution_count": 2,
   "metadata": {},
   "outputs": [
    {
     "name": "stdout",
     "output_type": "stream",
     "text": [
      "6\n",
      "The maximum repeating number is 6\n"
     ]
    }
   ],
   "source": [
    "'''\n",
    "Part II\n",
    "Find the mode\n",
    "'''\n",
    "\n",
    "#count method\n",
    "countmax = 0\n",
    "maximum = 0\n",
    "\n",
    "for i in (array):\n",
    "    num = array.count(i)\n",
    "    if num > countmax:\n",
    "        countmax = num\n",
    "        maximum = i\n",
    "print(maximum)\n",
    "\n",
    "\n",
    "#efficient method\n",
    "def maxRepeating(arr, n,  k):\n",
    " \n",
    "    # Iterate though input array, for every element\n",
    "    # arr[i], increment arr[arr[i]%k] by k\n",
    "    for i in range(0,  n):\n",
    "        arr[arr[i]%k] += k\n",
    " \n",
    "    # Find index of the maximum repeating element\n",
    "    max = arr[0]\n",
    "    result = 0\n",
    "    for i in range(1, n):\n",
    "     \n",
    "        if arr[i] > max:\n",
    "            max = arr[i]\n",
    "            result = i\n",
    " \n",
    "    # Get the original array back\n",
    "    for i in range(0, n):\n",
    "        arr[i] = arr[i]%k\n",
    " \n",
    "    # Return index of the maximum element\n",
    "    return result\n",
    "\n",
    "# main\n",
    "n = len(array)\n",
    "k = 8\n",
    "print(\"The maximum repeating number is\",maxRepeating(array, n, k))\n",
    " \n",
    "# This code is contributed by\n",
    "# Smitha Dinesh Semwal"
   ]
  },
  {
   "cell_type": "markdown",
   "metadata": {},
   "source": [
    "As you can probably see in Part II, the program spotted the number with highest occurances! It is 6! Computers are Smart, ain't they?\n",
    "And...\n",
    "We are finally at the Part III and one of the easiest part!! Find the index of the first 6 in the sorted array!!"
   ]
  },
  {
   "cell_type": "code",
   "execution_count": 3,
   "metadata": {},
   "outputs": [
    {
     "name": "stdout",
     "output_type": "stream",
     "text": [
      "9\n"
     ]
    }
   ],
   "source": [
    "'''\n",
    "Part III\n",
    "Use Linear Search to find the index of first 6 in a sorted array\n",
    "'''\n",
    "def linear_search(arr,target):\n",
    "    for index in range(len(arr)):\n",
    "        if arr[index] == target:\n",
    "            return index\n",
    "    return -1\n",
    "\n",
    "# main\n",
    "print(linear_search(array,6))"
   ]
  },
  {
   "cell_type": "markdown",
   "metadata": {},
   "source": [
    "The index of the first 6 should be 9! \n",
    "\n",
    "Congratulations on finishing this Search & Sort tutorial. Hope y'all had fun.<3"
   ]
  },
  {
   "cell_type": "code",
   "execution_count": null,
   "metadata": {},
   "outputs": [],
   "source": []
  }
 ],
 "metadata": {
  "kernelspec": {
   "display_name": "Python 3",
   "language": "python",
   "name": "python3"
  },
  "language_info": {
   "codemirror_mode": {
    "name": "ipython",
    "version": 3
   },
   "file_extension": ".py",
   "mimetype": "text/x-python",
   "name": "python",
   "nbconvert_exporter": "python",
   "pygments_lexer": "ipython3",
   "version": "3.6.4"
  }
 },
 "nbformat": 4,
 "nbformat_minor": 2
}
